{
 "cells": [
  {
   "cell_type": "code",
   "execution_count": 5,
   "metadata": {
    "collapsed": true
   },
   "outputs": [],
   "source": [
    "import pandas as pd\n",
    "import numpy as np\n",
    "import matplotlib.pyplot as plt"
   ]
  },
  {
   "cell_type": "code",
   "execution_count": 6,
   "metadata": {},
   "outputs": [
    {
     "data": {
      "text/html": [
       "<div>\n",
       "<style>\n",
       "    .dataframe thead tr:only-child th {\n",
       "        text-align: right;\n",
       "    }\n",
       "\n",
       "    .dataframe thead th {\n",
       "        text-align: left;\n",
       "    }\n",
       "\n",
       "    .dataframe tbody tr th {\n",
       "        vertical-align: top;\n",
       "    }\n",
       "</style>\n",
       "<table border=\"1\" class=\"dataframe\">\n",
       "  <thead>\n",
       "    <tr style=\"text-align: right;\">\n",
       "      <th></th>\n",
       "      <th>duration</th>\n",
       "      <th>episode</th>\n",
       "      <th>episode_reward</th>\n",
       "      <th>loss</th>\n",
       "      <th>mean_absolute_error</th>\n",
       "      <th>mean_q</th>\n",
       "      <th>nb_episode_steps</th>\n",
       "      <th>nb_steps</th>\n",
       "    </tr>\n",
       "  </thead>\n",
       "  <tbody>\n",
       "    <tr>\n",
       "      <th>0</th>\n",
       "      <td>3.196504</td>\n",
       "      <td>0</td>\n",
       "      <td>-1.236082e-04</td>\n",
       "      <td>0.000817</td>\n",
       "      <td>0.014306</td>\n",
       "      <td>0.670125</td>\n",
       "      <td>256</td>\n",
       "      <td>256</td>\n",
       "    </tr>\n",
       "    <tr>\n",
       "      <th>1</th>\n",
       "      <td>3.815939</td>\n",
       "      <td>1</td>\n",
       "      <td>6.050432e-06</td>\n",
       "      <td>0.000549</td>\n",
       "      <td>0.012856</td>\n",
       "      <td>0.609732</td>\n",
       "      <td>256</td>\n",
       "      <td>512</td>\n",
       "    </tr>\n",
       "    <tr>\n",
       "      <th>2</th>\n",
       "      <td>3.560607</td>\n",
       "      <td>2</td>\n",
       "      <td>7.990486e-05</td>\n",
       "      <td>0.000404</td>\n",
       "      <td>0.011049</td>\n",
       "      <td>0.556359</td>\n",
       "      <td>256</td>\n",
       "      <td>768</td>\n",
       "    </tr>\n",
       "    <tr>\n",
       "      <th>3</th>\n",
       "      <td>3.464176</td>\n",
       "      <td>3</td>\n",
       "      <td>-4.395915e-07</td>\n",
       "      <td>0.000669</td>\n",
       "      <td>0.012824</td>\n",
       "      <td>0.538503</td>\n",
       "      <td>256</td>\n",
       "      <td>1024</td>\n",
       "    </tr>\n",
       "    <tr>\n",
       "      <th>4</th>\n",
       "      <td>3.552362</td>\n",
       "      <td>4</td>\n",
       "      <td>-3.675813e-04</td>\n",
       "      <td>0.000608</td>\n",
       "      <td>0.012724</td>\n",
       "      <td>0.551386</td>\n",
       "      <td>256</td>\n",
       "      <td>1280</td>\n",
       "    </tr>\n",
       "  </tbody>\n",
       "</table>\n",
       "</div>"
      ],
      "text/plain": [
       "   duration  episode  episode_reward      loss  mean_absolute_error    mean_q  \\\n",
       "0  3.196504        0   -1.236082e-04  0.000817             0.014306  0.670125   \n",
       "1  3.815939        1    6.050432e-06  0.000549             0.012856  0.609732   \n",
       "2  3.560607        2    7.990486e-05  0.000404             0.011049  0.556359   \n",
       "3  3.464176        3   -4.395915e-07  0.000669             0.012824  0.538503   \n",
       "4  3.552362        4   -3.675813e-04  0.000608             0.012724  0.551386   \n",
       "\n",
       "   nb_episode_steps  nb_steps  \n",
       "0               256       256  \n",
       "1               256       512  \n",
       "2               256       768  \n",
       "3               256      1024  \n",
       "4               256      1280  "
      ]
     },
     "execution_count": 6,
     "metadata": {},
     "output_type": "execute_result"
    }
   ],
   "source": [
    "df = pd.read_json('logs/dqn_log.json')\n",
    "df.head()"
   ]
  },
  {
   "cell_type": "code",
   "execution_count": 28,
   "metadata": {},
   "outputs": [
    {
     "name": "stdout",
     "output_type": "stream",
     "text": [
      "count    1.300000e+03\n",
      "mean    -2.942159e-07\n",
      "std      1.443540e-04\n",
      "min     -9.587992e-04\n",
      "25%     -4.850965e-05\n",
      "50%      6.483125e-07\n",
      "75%      6.688837e-05\n",
      "max      8.175275e-04\n",
      "Name: episode_reward, dtype: float64\n"
     ]
    },
    {
     "data": {
      "image/png": "[encoded data removed]",
      "text/plain": [
       "<matplotlib.figure.Figure at 0x7fbcfe035890>"
      ]
     },
     "metadata": {},
     "output_type": "display_data"
    }
   ],
   "source": [
    "print df.episode_reward[:1300].describe()\n",
    "df.episode_reward[:800].hist()\n",
    "plt.show()"
   ]
  },
  {
   "cell_type": "code",
   "execution_count": 12,
   "metadata": {
    "collapsed": true
   },
   "outputs": [],
   "source": [
    "df.to_csv('logs/fc_ddpg.csv',index=None)"
   ]
  },
  {
   "cell_type": "code",
   "execution_count": 14,
   "metadata": {},
   "outputs": [
    {
     "data": {
      "text/plain": [
       "(303144, 5)"
      ]
     },
     "execution_count": 14,
     "metadata": {},
     "output_type": "execute_result"
    }
   ],
   "source": [
    "pd.read_csv('data/historical_bitcoin.csv').shape"
   ]
  },
  {
   "cell_type": "code",
   "execution_count": 70,
   "metadata": {
    "scrolled": true
   },
   "outputs": [
    {
     "name": "stdout",
     "output_type": "stream",
     "text": [
      "count    2.000000e+03\n",
      "mean    -1.415236e-06\n",
      "std      1.496472e-04\n",
      "min     -1.121233e-03\n",
      "25%     -5.297374e-05\n",
      "50%     -5.049629e-07\n",
      "75%      6.008742e-05\n",
      "max      6.148845e-04\n",
      "Name: episode_reward, dtype: float64\n"
     ]
    },
    {
     "data": {
      "image/png": "[encoded data removed]",
      "text/plain": [
       "<matplotlib.figure.Figure at 0x7fbcfdaca750>"
      ]
     },
     "metadata": {},
     "output_type": "display_data"
    },
    {
     "name": "stdout",
     "output_type": "stream",
     "text": [
      "count    2.000000e+03\n",
      "mean     4.328994e-06\n",
      "std      1.423389e-04\n",
      "min     -7.592387e-04\n",
      "25%     -5.192200e-05\n",
      "50%     -6.939822e-07\n",
      "75%      6.123589e-05\n",
      "max      6.788493e-04\n",
      "Name: episode_reward, dtype: float64\n"
     ]
    },
    {
     "data": {
      "image/png": "[encoded data removed]",
      "text/plain": [
       "<matplotlib.figure.Figure at 0x7fbcfd6e4110>"
      ]
     },
     "metadata": {},
     "output_type": "display_data"
    }
   ],
   "source": [
    "print pd.read_json('logs/ddpg_log.json')[-2000:].episode_reward.describe()\n",
    "pd.read_json('logs/ddpg_log.json')[-2000:].episode_reward.plot.hist(bins=30, grid=True, figsize=(5,4))\n",
    "plt.show()\n",
    "print pd.read_json('logs/ddpg_log.json')[:2000].episode_reward.describe()\n",
    "pd.read_json('logs/ddpg_log.json')[:2000].episode_reward.plot.hist(bins=30, grid=True, figsize=(5,4))\n",
    "plt.show()"
   ]
  },
  {
   "cell_type": "code",
   "execution_count": 78,
   "metadata": {},
   "outputs": [
    {
     "name": "stdout",
     "output_type": "stream",
     "text": [
      "count    100.000000\n",
      "mean       0.000026\n",
      "std        0.000133\n",
      "min       -0.000342\n",
      "25%       -0.000030\n",
      "50%        0.000014\n",
      "75%        0.000081\n",
      "max        0.000483\n",
      "Name: episode_reward, dtype: float64\n"
     ]
    },
    {
     "data": {
      "image/png": "[encoded data removed]",
      "text/plain": [
       "<matplotlib.figure.Figure at 0x7fbd60a07b10>"
      ]
     },
     "metadata": {},
     "output_type": "display_data"
    },
    {
     "name": "stdout",
     "output_type": "stream",
     "text": [
      "count    100.000000\n",
      "mean      -0.000001\n",
      "std        0.000132\n",
      "min       -0.000562\n",
      "25%       -0.000065\n",
      "50%        0.000010\n",
      "75%        0.000058\n",
      "max        0.000441\n",
      "Name: episode_reward, dtype: float64\n"
     ]
    },
    {
     "data": {
      "image/png": "[encoded data removed]",
      "text/plain": [
       "<matplotlib.figure.Figure at 0x7fbcfd71ca90>"
      ]
     },
     "metadata": {},
     "output_type": "display_data"
    }
   ],
   "source": [
    "print pd.read_json('logs/ddpg_log.json')[-100:].episode_reward.describe()\n",
    "pd.read_json('logs/ddpg_log.json')[-100:].episode_reward.plot.hist(bins=30, grid=True, figsize=(5,4))\n",
    "plt.show()\n",
    "print pd.read_json('logs/ddpg_log.json')[:100].episode_reward.describe()\n",
    "pd.read_json('logs/ddpg_log.json')[:100].episode_reward.plot.hist(bins=30, grid=True, figsize=(5,4))\n",
    "plt.show()"
   ]
  },
  {
   "cell_type": "code",
   "execution_count": 91,
   "metadata": {
    "scrolled": true
   },
   "outputs": [
    {
     "name": "stdout",
     "output_type": "stream",
     "text": [
      "count    2.000000e+02\n",
      "mean    -1.191340e-07\n",
      "std      2.686642e-14\n",
      "min     -1.191341e-07\n",
      "25%     -1.191340e-07\n",
      "50%     -1.191340e-07\n",
      "75%     -1.191340e-07\n",
      "max     -1.191340e-07\n",
      "Name: episode_reward, dtype: float64\n"
     ]
    },
    {
     "data": {
      "image/png": "[encoded data removed]",
      "text/plain": [
       "<matplotlib.figure.Figure at 0x7fbcfdd74d90>"
      ]
     },
     "metadata": {},
     "output_type": "display_data"
    },
    {
     "name": "stdout",
     "output_type": "stream",
     "text": [
      "count    2.000000e+02\n",
      "mean     6.280535e-06\n",
      "std      9.928623e-05\n",
      "min     -6.200200e-04\n",
      "25%     -1.191340e-07\n",
      "50%     -1.191337e-07\n",
      "75%      4.579977e-06\n",
      "max      6.461078e-04\n",
      "Name: episode_reward, dtype: float64\n"
     ]
    },
    {
     "data": {
      "image/png": "[encoded data removed]",
      "text/plain": [
       "<matplotlib.figure.Figure at 0x7fbcfd7de490>"
      ]
     },
     "metadata": {},
     "output_type": "display_data"
    }
   ],
   "source": [
    "print pd.read_json('logs/ddpg_log.json')[-200:].episode_reward.describe()\n",
    "pd.read_json('logs/ddpg_log.json')[-200:].episode_reward.plot.hist(bins=30, grid=True, figsize=(5,4))\n",
    "plt.show()\n",
    "print pd.read_json('logs/ddpg_log.json')[:200].episode_reward.describe()\n",
    "pd.read_json('logs/ddpg_log.json')[:200].episode_reward.plot.hist(bins=30, grid=True, figsize=(5,4))\n",
    "plt.show()"
   ]
  },
  {
   "cell_type": "code",
   "execution_count": null,
   "metadata": {
    "collapsed": true
   },
   "outputs": [],
   "source": []
  }
 ],
 "metadata": {
  "kernelspec": {
   "display_name": "Python 2",
   "language": "python",
   "name": "python2"
  },
  "language_info": {
   "codemirror_mode": {
    "name": "ipython",
    "version": 2
   },
   "file_extension": ".py",
   "mimetype": "text/x-python",
   "name": "python",
   "nbconvert_exporter": "python",
   "pygments_lexer": "ipython2",
   "version": "2.7.14"
  }
 },
 "nbformat": 4,
 "nbformat_minor": 2
}
